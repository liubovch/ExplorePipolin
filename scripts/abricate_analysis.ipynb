{
 "cells": [
  {
   "cell_type": "markdown",
   "source": [
    "# Abricate analysis of pipolin-containing strains\n",
    "\n",
    "### Author: Liubov Chuprikova"
   ],
   "metadata": {
    "collapsed": false,
    "pycharm": {
     "name": "#%% md\n"
    }
   }
  },
  {
   "cell_type": "code",
   "execution_count": 5,
   "outputs": [],
   "source": [
    "# import modules\n",
    "import os\n",
    "import subprocess\n",
    "import pandas\n",
    "import sys\n",
    "sys.getdefaultencoding()"
   ],
   "metadata": {
    "collapsed": false,
    "pycharm": {
     "name": "#%%\n",
     "is_executing": false
    }
   }
  },
  {
   "cell_type": "code",
   "execution_count": 12,
   "outputs": [],
   "source": [
    "# functions and variables\n",
    "ABRICATE_PATH = '/home/liubov/repos/abricate/bin/abricate'\n",
    "GENOMES_PATH = '/home/liubov/Documents/tfm/the_whole_analysis/all_genomes'\n",
    "WORKING_DIR = '/home/liubov/Documents/tfm/the_whole_analysis/abricate_analysis'\n",
    "\n",
    "def get_abricate_databases():\n",
    "    abricate_list = subprocess.run([ABRICATE_PATH, '--list'],\n",
    "                                   stdout=subprocess.PIPE, \n",
    "                                   stderr=subprocess.STDOUT).stdout.decode('utf-8')\n",
    "    databases = []\n",
    "    for line in abricate_list.split('\\n'):\n",
    "        entry = line.split('\\t')[0]\n",
    "        if entry != 'DATABASE' and entry != '':\n",
    "            databases.append(entry)\n",
    "    return databases\n",
    "\n",
    "def run_abricate(database_dir, genomes_dir):\n",
    "    in_genomes = os.listdir(genomes_dir)\n",
    "    os.mkdir(database_dir)\n",
    "    for genome in in_genomes:\n",
    "        with open(os.path.join(database_dir, f'{genome[:-3]}.tab', ), 'w') as ouf:\n",
    "            subprocess.run([ABRICATE_PATH, '--db', f'{os.path.basename(database_dir)}', \n",
    "                            '--threads', '4', '--nopath', \n",
    "                            f'{os.path.join(genomes_dir, genome)}'], stdout=ouf)\n",
    "\n",
    "def abricate_summarize(databases, out_dir):\n",
    "    for db in databases:\n",
    "        db_out_path = os.path.join(out_dir, db)\n",
    "        if not os.path.isdir(db_out_path):\n",
    "            continue\n",
    "        db_out_files = ' '.join([os.path.join(db_out_path, file) for file in os.listdir(db_out_path)])\n",
    "        with open(os.path.join(out_dir, 'summaries', f'{db}.tab'), 'w') as ouf:\n",
    "            subprocess.run(f'{ABRICATE_PATH} --nopath --summary {db_out_files}',\n",
    "                           shell=True, stdout=ouf)\n",
    "\n",
    "def parse_summaries(databases, summaries_dir):\n",
    "    summaries_data = pandas.DataFrame(columns=databases, index=os.listdir(GENOMES_PATH))\n",
    "    for db in databases:\n",
    "        summary_file = os.path.join(summaries_dir, f'{db}.tab')\n",
    "        if not os.path.isfile(summary_file):\n",
    "            continue\n",
    "        with open(summary_file) as inf:\n",
    "            for line in inf:\n",
    "                if line[0] != '#':\n",
    "                    genome, number = line.strip().split(sep='\\t')[:2]\n",
    "                    summaries_data.at[genome, db] = number\n",
    "\n",
    "    return summaries_data"
   ],
   "metadata": {
    "collapsed": false,
    "pycharm": {
     "name": "#%%\n",
     "is_executing": false
    }
   }
  },
  {
   "cell_type": "markdown",
   "source": [
    "## The analysis"
   ],
   "metadata": {
    "collapsed": false
   }
  },
  {
   "cell_type": "code",
   "execution_count": 3,
   "outputs": [],
   "source": [
    "abricate_dbs = get_abricate_databases()"
   ],
   "metadata": {
    "collapsed": false,
    "pycharm": {
     "name": "#%%\n",
     "is_executing": false
    }
   }
  },
  {
   "cell_type": "code",
   "execution_count": 4,
   "outputs": [],
   "source": [
    "for database in abricate_dbs:\n",
    "    db_dir = os.path.join(WORKING_DIR, database)\n",
    "    if not os.path.isdir(db_dir) and database != 'REL-DB'  and database != 'RIP-DB':\n",
    "        run_abricate(db_dir, GENOMES_PATH)"
   ],
   "metadata": {
    "collapsed": false,
    "pycharm": {
     "name": "#%%\n",
     "is_executing": false
    }
   }
  },
  {
   "cell_type": "code",
   "execution_count": 13,
   "outputs": [],
   "source": [
    "abricate_summarize(abricate_dbs, WORKING_DIR)\n",
    "summaries = parse_summaries(abricate_dbs, os.path.join(WORKING_DIR, 'summaries'))\n",
    "summaries.to_csv(os.path.join(WORKING_DIR, 'short_summary.csv'))\n"
   ],
   "metadata": {
    "collapsed": false,
    "pycharm": {
     "name": "#%%\n",
     "is_executing": false
    }
   }
  }
 ],
 "metadata": {
  "kernelspec": {
   "display_name": "Python 3",
   "language": "python",
   "name": "python3"
  },
  "language_info": {
   "codemirror_mode": {
    "name": "ipython",
    "version": 2
   },
   "file_extension": ".py",
   "mimetype": "text/x-python",
   "name": "python",
   "nbconvert_exporter": "python",
   "pygments_lexer": "ipython2",
   "version": "2.7.6"
  },
  "pycharm": {
   "stem_cell": {
    "cell_type": "raw",
    "source": [
     "\n"
    ],
    "metadata": {
     "collapsed": false
    }
   }
  }
 },
 "nbformat": 4,
 "nbformat_minor": 0
}