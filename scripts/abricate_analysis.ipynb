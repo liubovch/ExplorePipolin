{
 "cells": [
  {
   "cell_type": "markdown",
   "source": [
    "# Abricate analysis of pipolin-containing strains\n",
    "\n",
    "### Author: Liubov Chuprikova"
   ],
   "metadata": {
    "collapsed": false,
    "pycharm": {
     "name": "#%% md\n"
    }
   }
  },
  {
   "cell_type": "code",
   "execution_count": null,
   "outputs": [],
   "source": [
    "# import modules\n",
    "import os\n",
    "import subprocess\n",
    "from utilities import check_dir"
   ],
   "metadata": {
    "collapsed": false,
    "pycharm": {
     "name": "#%%\n"
    }
   }
  },
  {
   "cell_type": "code",
   "execution_count": null,
   "outputs": [],
   "source": [
    "# functions and variables\n",
    "ABRICATE_PATH = '/home/liubov/repos/abricate/bin/abricate'\n",
    "GENOMES_PATH = '/home/liubov/Documents/tfm/the_whole_analysis/all_genomes'\n",
    "WORKING_DIR = '/home/liubov/Documents/tfm/the_whole_analysis/abricate_analysis'\n",
    "\n",
    "def get_abricate_databases():\n",
    "    abricate_list = subprocess.run([ABRICATE_PATH, '--list'],\n",
    "                                   stdout=subprocess.PIPE, stderr=subprocess.STDOUT).stdout.decode('utf-8')\n",
    "    databases = []\n",
    "    for line in abricate_list.split('\\n'):\n",
    "        entry = line.split('\\t')[0]\n",
    "        if entry != 'DATABASE' or entry != '':\n",
    "            databases.append(entry)\n",
    "    databases.remove('RIP-DB')   # run later\n",
    "    databases.remove('REL-DB')   # run later\n",
    "    return databases\n",
    "\n",
    "def run_abricate(databases, genomes, in_dir, out_dir):\n",
    "    for database in databases:\n",
    "        database_dir = os.path.join(out_dir, database)\n",
    "        os.mkdir(database_dir)\n",
    "        for genome in genomes:\n",
    "            with open(os.path.join(database_dir, f'{genome[:-3]}.tab', ), 'w') as ouf:\n",
    "                subprocess.run([ABRICATE_PATH, '--db', f'{database}', '--threads', '4',\n",
    "                                '--nopath', f'{os.path.join(in_dir, genome)}'], stdout=ouf)\n",
    "\n",
    "def prepare_summaries(databases, out_dir):\n",
    "    for db in databases:\n",
    "        database_path = os.path.join(out_dir, db)\n",
    "        db_files = os.listdir(database_path)\n",
    "        with open(os.path.join(out_dir, 'summaries', f'{db}.tab'), 'w') as ouf:\n",
    "            subprocess.run(f'{ABRICATE_PATH} --nopath --summary '\n",
    "                           f'{\" \".join([os.path.join(database_path, file) for file in db_files])}',\n",
    "                           shell=True, stdout=ouf)\n",
    "\n",
    "def parse_summaries(databases, out_dir):\n",
    "    summaries_data = {}\n",
    "    for db in databases:\n",
    "        summaries_data[db] = {}\n",
    "        with open(os.path.join(out_dir, 'summaries', f'{db}.tab')) as inf:\n",
    "            for line in inf:\n",
    "                if line[0] != '#':\n",
    "                    genome, number = line.strip().split(sep='\\t')[:2]\n",
    "                    summaries_data[db][genome] = number\n",
    "\n",
    "    return summaries_data\n",
    "\n",
    "def save_summaries_data_to_csv(genomes, databases, summaries_data, out_dir):\n",
    "    with open(os.path.join(out_dir, 'short_summary.csv'), 'w') as ouf:\n",
    "        print(f'FILE,{\",\".join(databases)}', file=ouf)\n",
    "        for genome in genomes:\n",
    "            numbers = ','.join([summaries_data[db][f'{genome[:-3]}.tab'] for db in databases])\n",
    "            print(f'{genome},{numbers}', file=ouf)"
   ],
   "metadata": {
    "collapsed": false,
    "pycharm": {
     "name": "#%%\n"
    }
   }
  },
  {
   "cell_type": "markdown",
   "source": [
    "## The analysis"
   ],
   "metadata": {
    "collapsed": false
   }
  },
  {
   "cell_type": "code",
   "execution_count": null,
   "outputs": [],
   "source": [
    "databases = get_abricate_databases()\n",
    "genome_files = os.listdir(GENOMES_PATH)\n",
    "run_abricate(databases, genome_files, GENOMES_PATH, WORKING_DIR)\n",
    "prepare_summaries(databases, WORKING_DIR)\n",
    "summaries_data = parse_summaries(databases, WORKING_DIR)\n",
    "save_summaries_data_to_csv(genomes, databases, summaries_data, out_dir)\n"
   ],
   "metadata": {
    "collapsed": false,
    "pycharm": {
     "name": "#%%\n"
    }
   }
  }
 ],
 "metadata": {
  "kernelspec": {
   "display_name": "Python 3",
   "language": "python",
   "name": "python3"
  },
  "language_info": {
   "codemirror_mode": {
    "name": "ipython",
    "version": 2
   },
   "file_extension": ".py",
   "mimetype": "text/x-python",
   "name": "python",
   "nbconvert_exporter": "python",
   "pygments_lexer": "ipython2",
   "version": "2.7.6"
  },
  "pycharm": {
   "stem_cell": {
    "cell_type": "raw",
    "source": [
     "\n"
    ],
    "metadata": {
     "collapsed": false
    }
   }
  }
 },
 "nbformat": 4,
 "nbformat_minor": 0
}