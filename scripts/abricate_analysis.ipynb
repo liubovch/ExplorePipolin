{
 "cells": [
  {
   "cell_type": "markdown",
   "metadata": {
    "pycharm": {
     "name": "#%% md\n"
    }
   },
   "source": [
    "# Analysis of pipolin-containing strains using ABRICATE\n",
    "\n",
    "### Author: Liubov Chuprikova"
   ]
  },
  {
   "cell_type": "code",
   "execution_count": 1,
   "metadata": {
    "pycharm": {
     "is_executing": false,
     "name": "#%%\n"
    }
   },
   "outputs": [
    {
     "data": {
      "text/plain": [
       "'utf-8'"
      ]
     },
     "execution_count": 1,
     "metadata": {},
     "output_type": "execute_result"
    }
   ],
   "source": [
    "# import modules\n",
    "import os\n",
    "import subprocess\n",
    "import pandas\n",
    "import numpy\n",
    "from prettytable import PrettyTable\n",
    "import matplotlib.pyplot as plt\n",
    "from utilities import check_dir\n",
    "import sys\n",
    "sys.getdefaultencoding()"
   ]
  },
  {
   "cell_type": "code",
   "execution_count": 27,
   "metadata": {
    "pycharm": {
     "is_executing": false,
     "name": "#%%\n"
    }
   },
   "outputs": [],
   "source": [
    "# functions and variables\n",
    "ABRICATE_PATH = '/home/liubov/repos/abricate/bin/abricate'\n",
    "GENOMES_PATH = '/home/liubov/Documents/tfm/the_whole_analysis/all_genomes'\n",
    "WORKING_DIR = '/home/liubov/Documents/tfm/the_whole_analysis/abricate_analysis'\n",
    "\n",
    "def get_abricate_databases():\n",
    "    \"\"\"\n",
    "    Run `abricate --list` and parse available databases from stdout.\n",
    "    \"\"\"\n",
    "    abricate_list = subprocess.run([ABRICATE_PATH, '--list'],\n",
    "                                   stdout=subprocess.PIPE, \n",
    "                                   stderr=subprocess.STDOUT).stdout.decode('utf-8')\n",
    "    databases = []\n",
    "    for line in abricate_list.split('\\n'):\n",
    "        entry = line.split('\\t')[0]\n",
    "        if entry != 'DATABASE' and entry != '':\n",
    "            databases.append(entry)\n",
    "    return databases\n",
    "\n",
    "def run_abricate(database_dir, genomes_dir):\n",
    "    \"\"\"\n",
    "    Screen all the genomes in the genomes_dir against the given database.\n",
    "    \"\"\"\n",
    "    snp_databases = ['fumC', 'fimH', 'pointFinder_Ecoli']\n",
    "    # %id=95 (https://cge.cbs.dtu.dk/services/CHTyper/)\n",
    "    # %id=85 %cov=60 (https://cge.cbs.dtu.dk/services/SerotypeFinder/)\n",
    "    db = os.path.basename(database_dir)\n",
    "    if db in snp_databases: \n",
    "        minid, mincov = '95', '95'\n",
    "    elif db == 'ecoh':\n",
    "        minid, mincov = '85', '60'\n",
    "    else:   # default\n",
    "        minid, mincov = '75', '0'\n",
    "    in_genomes = os.listdir(genomes_dir)\n",
    "    os.mkdir(database_dir)\n",
    "    for genome in in_genomes:\n",
    "        with open(os.path.join(database_dir, f'{genome[:-3]}.tab', ), 'w') as ouf:\n",
    "            subprocess.run([ABRICATE_PATH, '--db', db, \n",
    "                            '--minid', minid, '--mincov', mincov,\n",
    "                            '--threads', '4', '--nopath', \n",
    "                            f'{os.path.join(genomes_dir, genome)}'], stdout=ouf)\n",
    "\n",
    "def abricate_summarize(databases, out_dir):\n",
    "    summaries_dir = os.path.join(out_dir, 'summaries')\n",
    "    check_dir(summaries_dir)   # create if not exists\n",
    "    for db in databases:\n",
    "        db_out_path = os.path.join(out_dir, db)\n",
    "        if not os.path.isdir(db_out_path):\n",
    "            continue\n",
    "        if os.path.isfile(os.path.join(summaries_dir, f'{db}.tab')):\n",
    "            continue\n",
    "        db_out_files = ' '.join([os.path.join(db_out_path, file) for file in os.listdir(db_out_path)])\n",
    "        with open(os.path.join(summaries_dir, f'{db}.tab'), 'w') as ouf:\n",
    "            subprocess.run(f'{ABRICATE_PATH} --nopath --summary {db_out_files}',\n",
    "                           shell=True, stdout=ouf)\n",
    "\n",
    "def parse_summaries(databases, summaries_dir):\n",
    "    summaries_data = pandas.DataFrame(columns=databases, \n",
    "                                      index=[f'{file[:-3]}.tab' for file in os.listdir(GENOMES_PATH)])\n",
    "    for db in databases:\n",
    "        summary_file = os.path.join(summaries_dir, f'{db}.tab')\n",
    "        if not os.path.isfile(summary_file):\n",
    "            continue\n",
    "        with open(summary_file) as inf:\n",
    "            for line in inf:\n",
    "                if line[0] != '#':\n",
    "                    genome, number = line.strip().split(sep='\\t')[:2]\n",
    "                    summaries_data.at[genome, db] = number\n",
    "\n",
    "    return summaries_data\n",
    "\n",
    "def set_chtype(from_df, to_df, chtype):\n",
    "    for _, row in from_df.iterrows():\n",
    "        entry = row['#FILE']\n",
    "        index_array = numpy.flatnonzero(row.iloc[2:].notna()) + 2\n",
    "        if len(index_array) > 1:\n",
    "            raise AssertionError('More than a single variation locus was defined!')\n",
    "        if len(index_array) == 0:\n",
    "            entry_type = numpy.nan\n",
    "        else:\n",
    "            entry_type = row.index[index_array[0]]\n",
    "        to_df.at[entry, chtype] = entry_type\n",
    "\n",
    "def set_ohtype(from_df, to_df):\n",
    "    for _, row in from_df.iterrows():\n",
    "        entry = row['#FILE']\n",
    "        index_array = numpy.flatnonzero(row.iloc[2:].notna()) + 2\n",
    "        entry_types = [row.index[index] for index in index_array]\n",
    "        to_df.at[entry, 'ecoh'] = ';'.join([etype for etype in entry_types])\n",
    "\n",
    "def plot_counts_by_type(types_ndarray):\n",
    "    types, counts = numpy.unique(types_ndarray, return_counts=True)\n",
    "    counts_sorted = numpy.sort(counts)[::-1]\n",
    "    types_sorted = types[(-counts).argsort()]\n",
    "    plt.bar(x=types_sorted, height=counts_sorted)\n",
    "    plt.ylim(top=numpy.max(counts))\n",
    "    plt.xticks(rotation=90)\n",
    "    \n",
    "    return plt.show()\n",
    "\n",
    "def make_megares_tidy(megares_df):\n",
    "    tidy_df = pandas.DataFrame(columns=['STRAIN', 'ID', 'TYPE', 'CLASS', 'MECHANISM', 'GROUP'])\n",
    "    for _, row in megares_df.iterrows():\n",
    "        entry = row['#FILE']\n",
    "        index_array = numpy.flatnonzero(row.iloc[2:].notna()) + 2\n",
    "        entry_types = [row.index[index] for index in index_array]\n",
    "        for etype in entry_types:\n",
    "            levels = etype.split(sep='|')\n",
    "            data = pandas.DataFrame({'STRAIN': [entry], 'ID': [levels[0]], 'TYPE': [levels[1]],\n",
    "                            'CLASS': [levels[2]], 'MECHANISM': [levels[3]], 'GROUP': [levels[4]]})\n",
    "            tidy_df = tidy_df.append(data, ignore_index=True)\n",
    "\n",
    "    return tidy_df\n",
    "\n",
    "def get_sheared_entities(entities, entity_name, grouped_data):\n",
    "    sheared_entities = []\n",
    "    for entity in entities:\n",
    "        count = 0\n",
    "        for _, group in grouped_data:\n",
    "            if entity in group[entity_name].unique().tolist():\n",
    "                count += 1\n",
    "        if count > len(grouped_data) * 0.95:\n",
    "            sheared_entities.append(entity)\n",
    "\n",
    "    return sheared_entities\n"
   ]
  },
  {
   "cell_type": "markdown",
   "metadata": {},
   "source": [
    "## The analysis\n",
    "### 1. Run abricate with all available databases and summarize the output"
   ]
  },
  {
   "cell_type": "code",
   "execution_count": 3,
   "metadata": {
    "pycharm": {
     "is_executing": false,
     "name": "#%%\n"
    }
   },
   "outputs": [],
   "source": [
    "abricate_dbs = get_abricate_databases()"
   ]
  },
  {
   "cell_type": "code",
   "execution_count": 4,
   "metadata": {
    "pycharm": {
     "is_executing": false,
     "name": "#%%\n"
    }
   },
   "outputs": [],
   "source": [
    "for database in abricate_dbs:\n",
    "    db_dir = os.path.join(WORKING_DIR, database)\n",
    "    if not os.path.isdir(db_dir) and database != 'REL-DB'  and database != 'RIP-DB':\n",
    "        run_abricate(db_dir, GENOMES_PATH)"
   ]
  },
  {
   "cell_type": "code",
   "execution_count": 5,
   "metadata": {
    "pycharm": {
     "is_executing": false,
     "name": "#%%\n"
    }
   },
   "outputs": [],
   "source": [
    "abricate_summarize(abricate_dbs, WORKING_DIR)\n",
    "summaries = parse_summaries(abricate_dbs, os.path.join(WORKING_DIR, 'summaries'))"
   ]
  },
  {
   "cell_type": "markdown",
   "metadata": {
    "pycharm": {
     "name": "#%% md\n"
    }
   },
   "source": [
    "### Define *fimH* and *fumC* types"
   ]
  },
  {
   "cell_type": "code",
   "execution_count": 6,
   "metadata": {
    "pycharm": {
     "is_executing": false,
     "name": "#%%\n"
    }
   },
   "outputs": [
    {
     "data": {
      "image/png": "[encoded data removed]",
      "text/plain": [
       "<Figure size 432x288 with 1 Axes>"
      ]
     },
     "metadata": {
      "needs_background": "light"
     },
     "output_type": "display_data"
    }
   ],
   "source": [
    "fimh_summary = pandas.read_csv(os.path.join(WORKING_DIR, 'summaries', 'fimH.tab'), \n",
    "                               sep='\\t', na_values='.')\n",
    "\n",
    "set_chtype(fimh_summary, summaries, 'fimH')\n",
    "\n",
    "plot_counts_by_type(summaries['fimH'].to_numpy(dtype=str))"
   ]
  },
  {
   "cell_type": "code",
   "execution_count": 7,
   "metadata": {
    "pycharm": {
     "is_executing": false,
     "name": "#%%\n"
    }
   },
   "outputs": [
    {
     "data": {
      "image/png": "[encoded data removed]",
      "text/plain": [
       "<Figure size 432x288 with 1 Axes>"
      ]
     },
     "metadata": {
      "needs_background": "light"
     },
     "output_type": "display_data"
    }
   ],
   "source": [
    "fumc_summary = pandas.read_csv(os.path.join(WORKING_DIR, 'summaries', 'fumC.tab'),\n",
    "                               sep='\\t', na_values='.')\n",
    "\n",
    "set_chtype(fumc_summary, summaries, 'fumC')\n",
    "\n",
    "plot_counts_by_type(summaries['fumC'].to_numpy(dtype=str))"
   ]
  },
  {
   "cell_type": "markdown",
   "metadata": {},
   "source": [
    "### Define *OH* serotypes"
   ]
  },
  {
   "cell_type": "code",
   "execution_count": 8,
   "metadata": {},
   "outputs": [],
   "source": [
    "ecoh_summary = pandas.read_csv(os.path.join(WORKING_DIR, 'summaries', 'ecoh.tab'),\n",
    "                              sep='\\t', na_values='.')\n",
    "\n",
    "set_ohtype(ecoh_summary, summaries)\n",
    "\n",
    "# It'll be easier to edit OH-types manually!"
   ]
  },
  {
   "cell_type": "code",
   "execution_count": 9,
   "metadata": {},
   "outputs": [],
   "source": [
    "# uncomment to rewrite the file\n",
    "# summaries.to_csv(os.path.join(WORKING_DIR, 'short_summary.csv'))"
   ]
  },
  {
   "cell_type": "markdown",
   "metadata": {},
   "source": [
    "### MEGARes\n",
    "\n",
    "`megares_noSNPs` is a database that was downloaded from MEGARes repository (https://megares.meglab.org/download/index.php) -- Version 2.0.0 (14 October 2019). Genes that requires SNP confirmation were excluded (`ExplorePipolin/scripts/prepare_megares_nosnps.py`).\n",
    "\n",
    "Each entry (gene) in this database is represented by it's unique ID and 4 hierarchical levels: TYPE, CLASS, MECHANISM and GROUP (by analogy with GO ontology).\n",
    "\n",
    " * **Type** of compound, to which the accession confers resistance (e.g. drug, biocide, metal, multi-compound),\n",
    " * **Class** of antimicrobial compounds to which a gene confers resistance (e.g. betalactams),\n",
    " * **Mechanism** by which this resistance is conferred (e.g. betalactamases),\n",
    " * **Group** name of the genes (e.g. Group A betalactamases),\n",
    " * and **ID** for each individual gene accession."
   ]
  },
  {
   "cell_type": "code",
   "execution_count": 10,
   "metadata": {},
   "outputs": [],
   "source": [
    "megares_summary = pandas.read_csv(os.path.join(WORKING_DIR, 'summaries', 'megares_noSNPs.tab'),\n",
    "                                 sep='\\t', na_values='.')"
   ]
  },
  {
   "cell_type": "code",
   "execution_count": 11,
   "metadata": {
    "pycharm": {
     "name": "#%%\n"
    }
   },
   "outputs": [
    {
     "name": "stdout",
     "output_type": "stream",
     "text": [
      "                STRAIN        ID            TYPE  \\\n",
      "0       AP019703.1.tab  MEG_1107        Biocides   \n",
      "1       AP019703.1.tab  MEG_1164          Metals   \n",
      "2       AP019703.1.tab  MEG_1180           Drugs   \n",
      "3       AP019703.1.tab  MEG_1181        Biocides   \n",
      "4       AP019703.1.tab  MEG_1189           Drugs   \n",
      "...                ...       ...             ...   \n",
      "15146  chr_LREC262.tab  MEG_7859          Metals   \n",
      "15147  chr_LREC262.tab  MEG_7862          Metals   \n",
      "15148  chr_LREC262.tab  MEG_7864          Metals   \n",
      "15149  chr_LREC262.tab  MEG_7865  Multi-compound   \n",
      "15150  chr_LREC262.tab  MEG_7867          Metals   \n",
      "\n",
      "                              CLASS                               MECHANISM  \\\n",
      "0          Multi-biocide_resistance      Multi-biocide_resistance_regulator   \n",
      "1            Multi-metal_resistance          Multi-metal_resistance_protein   \n",
      "2             Multi-drug_resistance         Multi-drug_RND_efflux_regulator   \n",
      "3                   Acid_resistance                 Acid_resistance_protein   \n",
      "4                        Bacitracin  Undecaprenyl_pyrophosphate_phosphatase   \n",
      "...                             ...                                     ...   \n",
      "15146               Zinc_resistance                 Zinc_resistance_protein   \n",
      "15147               Zinc_resistance               Zinc_resistance_regulator   \n",
      "15148        Multi-metal_resistance        Multi-metal_resistance_regulator   \n",
      "15149  Biocide_and_metal_resistance    Biocide_and_metal_resistance_protein   \n",
      "15150               Zinc_resistance               Zinc_resistance_regulator   \n",
      "\n",
      "       GROUP  \n",
      "0       ARIR  \n",
      "1      ARSCM  \n",
      "2       ASMA  \n",
      "3        ASR  \n",
      "4       BACA  \n",
      "...      ...  \n",
      "15146   ZNUC  \n",
      "15147   ZRAR  \n",
      "15148   ZRAS  \n",
      "15149   ZUPT  \n",
      "15150    ZUR  \n",
      "\n",
      "[15151 rows x 6 columns]\n"
     ]
    }
   ],
   "source": [
    "megares_tidy = make_megares_tidy(megares_summary)\n",
    "print(megares_tidy)"
   ]
  },
  {
   "cell_type": "code",
   "execution_count": 28,
   "metadata": {
    "pycharm": {
     "name": "#%%\n"
    }
   },
   "outputs": [
    {
     "name": "stdout",
     "output_type": "stream",
     "text": [
      "+--------------+-----+------+-------+-----------+-------+\n",
      "|      --      |  ID | TYPE | CLASS | MECHANISM | GROUP |\n",
      "+--------------+-----+------+-------+-----------+-------+\n",
      "| TOTAL IN ALL | 289 |  4   |   34  |     76    |  234  |\n",
      "+--------------+-----+------+-------+-----------+-------+\n"
     ]
    }
   ],
   "source": [
    "# total number of unique entities for each hierarchical level\n",
    "total_ids = megares_tidy['ID'].unique().tolist()\n",
    "total_types = megares_tidy['TYPE'].unique().tolist()\n",
    "total_classes = megares_tidy['CLASS'].unique().tolist()\n",
    "total_mechanisms = megares_tidy['MECHANISM'].unique().tolist()\n",
    "total_groups = megares_tidy['GROUP'].unique().tolist()\n",
    "\n",
    "x = PrettyTable()\n",
    "x.field_names = ['--', 'ID', 'TYPE', 'CLASS', 'MECHANISM', 'GROUP']\n",
    "x.add_row(['TOTAL IN ALL', len(total_ids), len(total_types), \n",
    "           len(total_classes), len(total_mechanisms), len(total_groups)])\n",
    "print(x)"
   ]
  },
  {
   "cell_type": "code",
   "execution_count": 29,
   "metadata": {},
   "outputs": [
    {
     "name": "stdout",
     "output_type": "stream",
     "text": [
      "88.35\n",
      "+---------------------+-----+------+-------+-----------+-------+\n",
      "|          --         |  ID | TYPE | CLASS | MECHANISM | GROUP |\n",
      "+---------------------+-----+------+-------+-----------+-------+\n",
      "|     TOTAL IN ALL    | 289 |  4   |   34  |     76    |  234  |\n",
      "| SHEARED B/W STRAINS | 136 |  4   |   22  |     45    |  140  |\n",
      "+---------------------+-----+------+-------+-----------+-------+\n"
     ]
    }
   ],
   "source": [
    "grouped = megares_tidy.groupby(['STRAIN'])\n",
    "print(len(grouped) * 0.95)\n",
    "# get entities that present in more than 95% of strains (89-93)\n",
    "sheared_ids = get_sheared_entities(total_ids, 'ID', grouped)\n",
    "sheared_types = get_sheared_entities(total_types, 'TYPE', grouped)\n",
    "sheared_classes = get_sheared_entities(total_classes, 'CLASS', grouped)\n",
    "sheared_mechanisms = get_sheared_entities(total_mechanisms, 'MECHANISM', grouped)\n",
    "sheared_groups = get_sheared_entities(total_groups, 'GROUP', grouped)\n",
    "\n",
    "\n",
    "x.add_row(['SHEARED B/W STRAINS', len(sheared_ids), len(sheared_types), \n",
    "           len(sheared_classes), len(sheared_mechanisms), len(sheared_groups)])\n",
    "print(x)"
   ]
  },
  {
   "cell_type": "code",
   "execution_count": 22,
   "metadata": {},
   "outputs": [
    {
     "name": "stdout",
     "output_type": "stream",
     "text": [
      "['MEG_1164', 'MEG_1180', 'MEG_1181', 'MEG_1192', 'MEG_1193', 'MEG_1210', 'MEG_1231', 'MEG_1701', 'MEG_2017', 'MEG_2020', 'MEG_2087', 'MEG_2088', 'MEG_2091', 'MEG_2092', 'MEG_2132', 'MEG_2440', 'MEG_2443', 'MEG_2446', 'MEG_2447', 'MEG_2451', 'MEG_2454', 'MEG_2456', 'MEG_2457', 'MEG_2458', 'MEG_2688', 'MEG_2689', 'MEG_2692', 'MEG_2722', 'MEG_2725', 'MEG_2729', 'MEG_2732', 'MEG_2734', 'MEG_2736', 'MEG_2739', 'MEG_2867', 'MEG_2875', 'MEG_2898', 'MEG_2899', 'MEG_2909', 'MEG_3076', 'MEG_3078', 'MEG_3079', 'MEG_3080', 'MEG_3081', 'MEG_3083', 'MEG_3141', 'MEG_3253', 'MEG_3255', 'MEG_3271', 'MEG_3287', 'MEG_3289', 'MEG_3291', 'MEG_3448', 'MEG_3516', 'MEG_3622', 'MEG_3662', 'MEG_3663', 'MEG_3737', 'MEG_3746', 'MEG_3747', 'MEG_3749', 'MEG_3751', 'MEG_3752', 'MEG_3755', 'MEG_3756', 'MEG_3757', 'MEG_3759', 'MEG_3761', 'MEG_3763', 'MEG_3764', 'MEG_3765', 'MEG_3948', 'MEG_3998', 'MEG_3999', 'MEG_399', 'MEG_4000', 'MEG_4002', 'MEG_4006', 'MEG_4010', 'MEG_4012', 'MEG_401', 'MEG_4033', 'MEG_4061', 'MEG_407', 'MEG_4160', 'MEG_4162', 'MEG_4164', 'MEG_4167', 'MEG_4168', 'MEG_4170', 'MEG_4171', 'MEG_4173', 'MEG_4177', 'MEG_5321', 'MEG_5400', 'MEG_5409', 'MEG_5787', 'MEG_5801', 'MEG_5813', 'MEG_5814', 'MEG_5815', 'MEG_5816', 'MEG_6048', 'MEG_6050', 'MEG_6082', 'MEG_6540', 'MEG_6545', 'MEG_6549', 'MEG_6551', 'MEG_6577', 'MEG_6655', 'MEG_6656', 'MEG_7263', 'MEG_729', 'MEG_7813', 'MEG_7817', 'MEG_7819', 'MEG_7820', 'MEG_7831', 'MEG_7832', 'MEG_7833', 'MEG_7835', 'MEG_7837', 'MEG_7841', 'MEG_7842', 'MEG_7849', 'MEG_7851', 'MEG_7853', 'MEG_7854', 'MEG_7855', 'MEG_7858', 'MEG_7859', 'MEG_7862', 'MEG_7864', 'MEG_7865', 'MEG_7867']\n"
     ]
    }
   ],
   "source": [
    "print(sheared_ids)"
   ]
  },
  {
   "cell_type": "code",
   "execution_count": 23,
   "metadata": {},
   "outputs": [
    {
     "name": "stdout",
     "output_type": "stream",
     "text": [
      "['Biocides', 'Metals', 'Drugs', 'Multi-compound']\n"
     ]
    }
   ],
   "source": [
    "print(sheared_types)"
   ]
  },
  {
   "cell_type": "code",
   "execution_count": 37,
   "metadata": {},
   "outputs": [
    {
     "data": {
      "text/plain": [
       "['Multi-biocide_resistance',\n",
       " 'Multi-metal_resistance',\n",
       " 'Multi-drug_resistance',\n",
       " 'Acid_resistance',\n",
       " 'Bacitracin',\n",
       " 'Drug_and_biocide_and_metal_resistance',\n",
       " 'Drug_and_biocide_resistance',\n",
       " 'Copper_resistance',\n",
       " 'betalactams',\n",
       " 'Sodium_resistance',\n",
       " 'Cationic_antimicrobial_peptides',\n",
       " 'Phenolic_compound_resistance',\n",
       " 'Biocide_and_metal_resistance',\n",
       " 'Peroxide_resistance',\n",
       " 'Acetate_resistance',\n",
       " 'Aminoglycosides',\n",
       " 'MLS',\n",
       " 'Chromium_resistance',\n",
       " 'Nickel_resistance',\n",
       " 'Arsenic_resistance',\n",
       " 'Paraquat_resistance',\n",
       " 'Zinc_resistance']"
      ]
     },
     "execution_count": 37,
     "metadata": {},
     "output_type": "execute_result"
    }
   ],
   "source": [
    "[i for i in sheared_classes]"
   ]
  },
  {
   "cell_type": "code",
   "execution_count": 33,
   "metadata": {},
   "outputs": [
    {
     "data": {
      "text/plain": [
       "['Multi-biocide_resistance_regulator',\n",
       " 'Multi-metal_resistance_protein',\n",
       " 'Multi-drug_RND_efflux_regulator',\n",
       " 'Acid_resistance_protein',\n",
       " 'Undecaprenyl_pyrophosphate_phosphatase',\n",
       " 'Drug_and_biocide_and_metal_RND_efflux_regulator',\n",
       " 'Drug_and_biocide_MFS_efflux_pumps',\n",
       " 'Copper_resistance_regulator',\n",
       " 'Class_C_betalactamases',\n",
       " 'Sodium_resistance_protein',\n",
       " 'Copper_resistance_protein',\n",
       " 'Drug_and_biocide_RND_efflux_regulator',\n",
       " 'Multi-metal_RND_efflux_pumps',\n",
       " 'Drug_and_biocide_MFS_efflux_regulator',\n",
       " 'Lipid_A_modification',\n",
       " 'Acid_resistance_regulator',\n",
       " 'Phenolic_resistance_protein',\n",
       " 'Multi-metal_ABC_efflux_pumps',\n",
       " 'Biocide_and_metal_ABC_efflux_pumps',\n",
       " 'Biocide_and_metal_resistance_protein',\n",
       " 'Multi-drug_RND_efflux_pumps',\n",
       " 'Peroxide_resistance_stress_protein',\n",
       " 'Acetate_resistance_protein',\n",
       " 'Aminoglycoside_efflux_pumps',\n",
       " 'Drug_and_biocide_SMR_efflux_pumps',\n",
       " 'Drug_and_biocide_and_metal_RND_efflux_pumps',\n",
       " 'Drug_and_biocide_RND_efflux_pumps',\n",
       " 'Drug_and_biocide_MATE_efflux_pumps',\n",
       " 'Multi-metal_resistance_regulator',\n",
       " 'Macrolide_phosphotransferases',\n",
       " 'Multi-drug_ABC_efflux_pumps',\n",
       " 'Chromium_resistance_protein',\n",
       " 'Nickel_ABC_efflux_pumps',\n",
       " 'Nickel_ABC_efflux_regulator',\n",
       " 'Penicillin_binding_protein',\n",
       " 'Arsenic_resistance_protein',\n",
       " 'peroxide_resistance_protein',\n",
       " 'Drug_and_biocide_and_metal_resistance_regulator',\n",
       " 'Multi-biocide_SMR_efflux_pump',\n",
       " 'Multi-biocide_RND_efflux_pump',\n",
       " 'Paraquat_efflux_pump',\n",
       " 'Multi-biocide_resistance_protein',\n",
       " 'Drug_and_biocide_ABC_efflux_pumps',\n",
       " 'Zinc_resistance_protein',\n",
       " 'Zinc_resistance_regulator']"
      ]
     },
     "execution_count": 33,
     "metadata": {},
     "output_type": "execute_result"
    }
   ],
   "source": [
    "[i for i in sheared_mechanisms]"
   ]
  },
  {
   "cell_type": "code",
   "execution_count": 38,
   "metadata": {},
   "outputs": [
    {
     "name": "stdout",
     "output_type": "stream",
     "text": [
      "['ARSCM', 'ASMA', 'ASR', 'BACA', 'BAER', 'BAES', 'BCR', 'BHSA', 'CHAA', 'COMR', 'COPA', 'CORA', 'CORB', 'CORC', 'CORD', 'CPXAR', 'CRP', 'CUEO', 'CUER', 'CUSA', 'CUSB', 'CUSF', 'CUTA', 'CUTC', 'CUTE', 'CUTF', 'DSBA', 'DSBB', 'DSBC', 'EMRA', 'EMRB', 'EMRD', 'EMRK', 'EMRR', 'EMRY', 'EPTA', 'EVGA', 'EVGS', 'FABI', 'FETA', 'FETB', 'FIEF', 'GADA', 'GADB', 'GADC', 'GADE', 'GADW', 'GADX', 'GLPF', 'HDEA', 'HDEB', 'HNS', 'IBPA', 'IBPB', 'ICLR', 'KDPE', 'KPNO', 'LPDT', 'MARA', 'MARR', 'MDFA', 'MDTA', 'MDTB', 'MDTC', 'MDTE', 'MDTF', 'MDTG', 'MDTH', 'MDTI', 'MDTJ', 'MDTK', 'MDTM', 'MDTN', 'MDTO', 'MDTP', 'MGTA', 'MNTH', 'MNTP', 'ACRA', 'MNTR', 'MODA', 'MODB', 'MODC', 'ACRB', 'MPHB', 'MSBA', 'ACRD', 'NFSA', 'NHAA', 'NHAB', 'NIKA', 'NIKB', 'NIKC', 'NIKD', 'NIKE', 'NIKR', 'OXYRKP', 'PBP2', 'PBP4B', 'PITA', 'PMRF', 'PSTA', 'PSTB', 'PSTC', 'PSTS', 'RCNA', 'RCNR', 'ROBA', 'RPOS', 'SODA', 'SODB', 'SOXRB', 'SOXS', 'SUGE', 'TEHA', 'TEHB', 'TOLC', 'AMPH', 'YCHH', 'YDDG', 'YDEO', 'YDEP', 'YGIW', 'YGJH', 'YHCN', 'YIEF', 'YJCG', 'YODB', 'YOGI', 'ZINT', 'ZITB', 'ZNTA', 'ZNTR', 'ZNUA', 'ZNUB', 'ZNUC', 'ZRAR', 'ZRAS', 'ZUPT', 'ZUR']\n"
     ]
    }
   ],
   "source": [
    "print(sheared_groups)"
   ]
  },
  {
   "cell_type": "markdown",
   "metadata": {},
   "source": [
    "**https://megares.meglab.org/browse/**"
   ]
  },
  {
   "cell_type": "code",
   "execution_count": null,
   "metadata": {},
   "outputs": [],
   "source": []
  }
 ],
 "metadata": {
  "kernelspec": {
   "display_name": "Python 3",
   "language": "python",
   "name": "python3"
  },
  "language_info": {
   "codemirror_mode": {
    "name": "ipython",
    "version": 3
   },
   "file_extension": ".py",
   "mimetype": "text/x-python",
   "name": "python",
   "nbconvert_exporter": "python",
   "pygments_lexer": "ipython3",
   "version": "3.7.3"
  },
  "pycharm": {
   "stem_cell": {
    "cell_type": "raw",
    "metadata": {
     "collapsed": false
    },
    "source": [
     "\n"
    ]
   }
  }
 },
 "nbformat": 4,
 "nbformat_minor": 1
}
