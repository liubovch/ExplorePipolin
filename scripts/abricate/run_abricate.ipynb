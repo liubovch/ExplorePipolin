{
 "cells": [
  {
   "cell_type": "markdown",
   "metadata": {},
   "source": [
    "# Run abricate for each database and create summaries\n",
    "\n",
    "#### Author: Liubov Chuprikova"
   ]
  },
  {
   "cell_type": "code",
   "execution_count": 1,
   "metadata": {
    "pycharm": {
     "is_executing": false,
     "name": "#%%\n"
    }
   },
   "outputs": [
    {
     "data": {
      "text/plain": [
       "'utf-8'"
      ]
     },
     "execution_count": 1,
     "metadata": {},
     "output_type": "execute_result"
    }
   ],
   "source": [
    "# import modules\n",
    "import os\n",
    "import subprocess\n",
    "import pandas as pd\n",
    "import numpy as np\n",
    "import matplotlib.pyplot as plt\n",
    "import sys\n",
    "sys.getdefaultencoding()"
   ]
  },
  {
   "cell_type": "code",
   "execution_count": 2,
   "metadata": {
    "pycharm": {
     "is_executing": false,
     "name": "#%%\n"
    }
   },
   "outputs": [],
   "source": [
    "# functions and variables\n",
    "ABRICATE_PATH = '/home/liubov/repos/abricate/bin/abricate'\n",
    "GENOMES_PATH = '/home/liubov/Documents/tfm/the_whole_analysis/all_genomes'\n",
    "WORKING_DIR = '/home/liubov/Documents/tfm/the_whole_analysis/abricate_analysis'\n",
    "\n",
    "def get_abricate_databases():\n",
    "    \"\"\"\n",
    "    Run `abricate --list` and parse available databases from stdout.\n",
    "    \"\"\"\n",
    "    abricate_list = subprocess.run([ABRICATE_PATH, '--list'],\n",
    "                                   stdout=subprocess.PIPE, \n",
    "                                   stderr=subprocess.STDOUT).stdout.decode('utf-8')\n",
    "    databases = []\n",
    "    for line in abricate_list.split('\\n'):\n",
    "        entry = line.split('\\t')[0]\n",
    "        if entry != 'DATABASE' and entry != '':\n",
    "            databases.append(entry)\n",
    "    return databases\n",
    "\n",
    "def run_abricate(database_dir, genomes_dir):\n",
    "    \"\"\"\n",
    "    Screen all the genomes in the genomes_dir against the given database.\n",
    "    \"\"\"\n",
    "    snp_databases = ['fumC', 'fimH', 'pointFinder_Ecoli']\n",
    "    # %id=95 (https://cge.cbs.dtu.dk/services/CHTyper/)\n",
    "    # %id=85 %cov=60 (https://cge.cbs.dtu.dk/services/SerotypeFinder/)\n",
    "    db = os.path.basename(database_dir)\n",
    "    if db in snp_databases: \n",
    "        minid, mincov = '95', '95'\n",
    "    elif db == 'ecoh':\n",
    "        minid, mincov = '85', '60'\n",
    "    else:   # default\n",
    "        minid, mincov = '75', '0'\n",
    "    in_genomes = os.listdir(genomes_dir)\n",
    "    os.mkdir(database_dir)\n",
    "    for genome in in_genomes:\n",
    "        print(f'\\nRunning for the genome {genome}...')\n",
    "        with open(os.path.join(database_dir, f'{genome[:-3]}.tab', ), 'w') as ouf:\n",
    "            subprocess.run([ABRICATE_PATH, '--db', db, \n",
    "                            '--minid', minid, '--mincov', mincov,\n",
    "                            '--threads', '4', '--nopath', \n",
    "                            f'{os.path.join(genomes_dir, genome)}'], stdout=ouf)\n",
    "\n",
    "def abricate_summarize(databases, out_dir):\n",
    "    summaries_dir = os.path.join(out_dir, 'summaries')\n",
    "    \n",
    "    if not os.path.exists(summaries_dir):\n",
    "        os.mkdir(summaries_dir)\n",
    "    \n",
    "    for db in databases:\n",
    "        db_out_path = os.path.join(out_dir, db)\n",
    "        if not os.path.isdir(db_out_path):\n",
    "            continue\n",
    "        if os.path.isfile(os.path.join(summaries_dir, f'{db}.tab')):\n",
    "            continue\n",
    "        db_out_files = ' '.join([os.path.join(db_out_path, file) for file in os.listdir(db_out_path)])\n",
    "        with open(os.path.join(summaries_dir, f'{db}.tab'), 'w') as ouf:\n",
    "            subprocess.run(f'{ABRICATE_PATH} --nopath --summary {db_out_files}',\n",
    "                           shell=True, stdout=ouf)\n",
    "\n",
    "def parse_summaries(databases, summaries_dir):\n",
    "    summaries_data = pd.DataFrame(columns=databases, \n",
    "                                      index=[f'{file[:-3]}.tab' for file in os.listdir(GENOMES_PATH)])\n",
    "    for db in databases:\n",
    "        summary_file = os.path.join(summaries_dir, f'{db}.tab')\n",
    "        if not os.path.isfile(summary_file):\n",
    "            continue\n",
    "        with open(summary_file) as inf:\n",
    "            for line in inf:\n",
    "                if line[0] != '#':\n",
    "                    genome, number = line.strip().split(sep='\\t')[:2]\n",
    "                    summaries_data.at[genome, db] = number\n",
    "\n",
    "    return summaries_data\n",
    "\n",
    "def set_chtype(from_df, to_df, chtype):\n",
    "    for _, row in from_df.iterrows():\n",
    "        entry = row['#FILE']\n",
    "        index_array = np.flatnonzero(row.iloc[2:].notna()) + 2\n",
    "        if len(index_array) > 1:\n",
    "            raise AssertionError('More than a single variation locus was defined!')\n",
    "        if len(index_array) == 0:\n",
    "            entry_type = np.nan\n",
    "        else:\n",
    "            entry_type = row.index[index_array[0]]\n",
    "        to_df.at[entry, chtype] = entry_type\n",
    "\n",
    "def set_ohtype(from_df, to_df):\n",
    "    for _, row in from_df.iterrows():\n",
    "        entry = row['#FILE']\n",
    "        index_array = np.flatnonzero(row.iloc[2:].notna()) + 2\n",
    "        entry_types = [row.index[index] for index in index_array]\n",
    "        to_df.at[entry, 'ecoh'] = ';'.join([etype for etype in entry_types])\n",
    "\n",
    "def plot_counts_by_type(types_ndarray):\n",
    "    types, counts = np.unique(types_ndarray, return_counts=True)\n",
    "    counts_sorted = np.sort(counts)[::-1]\n",
    "    types_sorted = types[(-counts).argsort()]\n",
    "    plt.bar(x=types_sorted, height=counts_sorted)\n",
    "    plt.ylim(top=np.max(counts))\n",
    "    plt.xticks(rotation=90)\n",
    "    \n",
    "    return plt.show()"
   ]
  },
  {
   "cell_type": "markdown",
   "metadata": {},
   "source": [
    "### 1. Run abricate with all available databases and summarize the output"
   ]
  },
  {
   "cell_type": "code",
   "execution_count": 3,
   "metadata": {
    "pycharm": {
     "is_executing": false,
     "name": "#%%\n"
    }
   },
   "outputs": [
    {
     "data": {
      "text/plain": [
       "['ecoli_virfinder',\n",
       " 'ecoh',\n",
       " 'vfdb',\n",
       " 'megares_noSNPs',\n",
       " 'integron',\n",
       " 'argannot',\n",
       " 'fumC',\n",
       " 'ncbi',\n",
       " 'card',\n",
       " 'resfinder',\n",
       " 'fimH',\n",
       " 'ecoli_vf',\n",
       " 'plasmidfinder']"
      ]
     },
     "execution_count": 3,
     "metadata": {},
     "output_type": "execute_result"
    }
   ],
   "source": [
    "abricate_dbs = get_abricate_databases()\n",
    "[i for i in abricate_dbs]"
   ]
  },
  {
   "cell_type": "code",
   "execution_count": 4,
   "metadata": {
    "pycharm": {
     "is_executing": false,
     "name": "#%%\n"
    }
   },
   "outputs": [],
   "source": [
    "for database in abricate_dbs:\n",
    "    db_dir = os.path.join(WORKING_DIR, database)\n",
    "    if not os.path.isdir(db_dir):\n",
    "        print(f'\\n>>>Running for the database {os.path.basename(db_dir)}')\n",
    "        run_abricate(db_dir, GENOMES_PATH)"
   ]
  },
  {
   "cell_type": "code",
   "execution_count": 5,
   "metadata": {
    "pycharm": {
     "is_executing": false,
     "name": "#%%\n"
    }
   },
   "outputs": [],
   "source": [
    "abricate_summarize(abricate_dbs, WORKING_DIR)\n",
    "summaries = parse_summaries(abricate_dbs, os.path.join(WORKING_DIR, 'summaries'))"
   ]
  },
  {
   "cell_type": "markdown",
   "metadata": {
    "pycharm": {
     "name": "#%% md\n"
    }
   },
   "source": [
    "### 2. Define *fimH* and *fumC* types"
   ]
  },
  {
   "cell_type": "code",
   "execution_count": 6,
   "metadata": {
    "pycharm": {
     "is_executing": false,
     "name": "#%%\n"
    }
   },
   "outputs": [
    {
     "data": {
      "image/png": "[encoded data removed]",
      "text/plain": [
       "<Figure size 432x288 with 1 Axes>"
      ]
     },
     "metadata": {
      "needs_background": "light"
     },
     "output_type": "display_data"
    }
   ],
   "source": [
    "fimh_summary = pd.read_csv(os.path.join(WORKING_DIR, 'summaries', 'fimH.tab'), \n",
    "                               sep='\\t', na_values='.')\n",
    "\n",
    "set_chtype(fimh_summary, summaries, 'fimH')\n",
    "\n",
    "plot_counts_by_type(summaries['fimH'].to_numpy(dtype=str))"
   ]
  },
  {
   "cell_type": "code",
   "execution_count": 7,
   "metadata": {
    "pycharm": {
     "is_executing": false,
     "name": "#%%\n"
    }
   },
   "outputs": [
    {
     "data": {
      "image/png": "[encoded data removed]",
      "text/plain": [
       "<Figure size 432x288 with 1 Axes>"
      ]
     },
     "metadata": {
      "needs_background": "light"
     },
     "output_type": "display_data"
    }
   ],
   "source": [
    "fumc_summary = pd.read_csv(os.path.join(WORKING_DIR, 'summaries', 'fumC.tab'),\n",
    "                               sep='\\t', na_values='.')\n",
    "\n",
    "set_chtype(fumc_summary, summaries, 'fumC')\n",
    "\n",
    "plot_counts_by_type(summaries['fumC'].to_numpy(dtype=str))"
   ]
  },
  {
   "cell_type": "markdown",
   "metadata": {},
   "source": [
    "### 3. Define *OH* serotypes"
   ]
  },
  {
   "cell_type": "code",
   "execution_count": 8,
   "metadata": {},
   "outputs": [],
   "source": [
    "ecoh_summary = pd.read_csv(os.path.join(WORKING_DIR, 'summaries', 'ecoh.tab'),\n",
    "                              sep='\\t', na_values='.')\n",
    "\n",
    "set_ohtype(ecoh_summary, summaries)\n",
    "\n",
    "# It'll be easier to edit OH-types manually!"
   ]
  },
  {
   "cell_type": "code",
   "execution_count": 9,
   "metadata": {},
   "outputs": [],
   "source": [
    "# uncomment to rewrite the file\n",
    "summaries.to_csv(os.path.join(WORKING_DIR, 'short_summary.csv'))"
   ]
  },
  {
   "cell_type": "code",
   "execution_count": null,
   "metadata": {},
   "outputs": [],
   "source": []
  }
 ],
 "metadata": {
  "kernelspec": {
   "display_name": "Python 3",
   "language": "python",
   "name": "python3"
  },
  "language_info": {
   "codemirror_mode": {
    "name": "ipython",
    "version": 3
   },
   "file_extension": ".py",
   "mimetype": "text/x-python",
   "name": "python",
   "nbconvert_exporter": "python",
   "pygments_lexer": "ipython3",
   "version": "3.7.3"
  },
  "pycharm": {
   "stem_cell": {
    "cell_type": "raw",
    "metadata": {
     "collapsed": false
    },
    "source": [
     "\n"
    ]
   }
  }
 },
 "nbformat": 4,
 "nbformat_minor": 1
}
