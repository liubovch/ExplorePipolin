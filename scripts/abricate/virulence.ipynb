{
 "cells": [
  {
   "cell_type": "markdown",
   "metadata": {},
   "source": [
    "# Analysis of virulence genes\n",
    "\n",
    "#### Author: Liubov Chuprikova"
   ]
  },
  {
   "cell_type": "code",
   "execution_count": 1,
   "metadata": {},
   "outputs": [
    {
     "data": {
      "text/plain": [
       "'utf-8'"
      ]
     },
     "execution_count": 1,
     "metadata": {},
     "output_type": "execute_result"
    }
   ],
   "source": [
    "# import modules\n",
    "import os\n",
    "import pandas as pd\n",
    "import numpy as np\n",
    "import sys\n",
    "sys.getdefaultencoding()"
   ]
  },
  {
   "cell_type": "code",
   "execution_count": 2,
   "metadata": {},
   "outputs": [],
   "source": [
    "SUMMARIES_DIR = '/home/liubov/Documents/tfm/the_whole_analysis/abricate_analysis/summaries'\n",
    "\n",
    "def make_tidy(df):\n",
    "    tidy_df = pd.DataFrame(columns=['STRAIN', 'GENE'])\n",
    "    for _, row in df.iterrows():\n",
    "        entry = row['#FILE']\n",
    "        index_array = np.flatnonzero(row.iloc[2:].notna()) + 2\n",
    "        entry_types = [row.index[index] for index in index_array]\n",
    "        for etype in entry_types:\n",
    "            data = pd.DataFrame({'STRAIN': [entry], 'GENE': [etype]})\n",
    "            tidy_df = tidy_df.append(data, ignore_index=True)\n",
    "    \n",
    "    return tidy_df\n",
    "\n",
    "def get_sheared_entities(entities, entity_name, grouped_data):\n",
    "    sheared_entities = []\n",
    "    for entity in entities:\n",
    "        count = 0\n",
    "        for _, group in grouped_data:\n",
    "            if entity in group[entity_name].unique().tolist():\n",
    "                count += 1\n",
    "        if count > len(grouped_data) * 0.95:\n",
    "            sheared_entities.append(entity)\n",
    "\n",
    "    return sheared_entities"
   ]
  },
  {
   "cell_type": "markdown",
   "metadata": {},
   "source": [
    "### VFDB (http://www.mgc.ac.cn/VFs/ updated 17-Oct-2019)"
   ]
  },
  {
   "cell_type": "code",
   "execution_count": 3,
   "metadata": {},
   "outputs": [],
   "source": [
    "vfdb_summary = pd.read_csv(os.path.join(SUMMARIES_DIR, 'vfdb.tab'),\n",
    "                           sep='\\t', na_values='.')"
   ]
  },
  {
   "cell_type": "code",
   "execution_count": 4,
   "metadata": {},
   "outputs": [],
   "source": [
    "vfdb_tidy = make_tidy(vfdb_summary)"
   ]
  },
  {
   "cell_type": "code",
   "execution_count": 5,
   "metadata": {},
   "outputs": [],
   "source": [
    "vfdb_total_genes = vfdb_tidy['GENE'].unique().tolist()\n",
    "vfdb_tidy_grouped = vfdb_tidy.groupby(['STRAIN'])\n",
    "# get genes that present in more than 95% of strains (89-93)\n",
    "vfdb_sheared_genes = get_sheared_entities(vfdb_total_genes, 'GENE', vfdb_tidy_grouped)"
   ]
  },
  {
   "cell_type": "code",
   "execution_count": 6,
   "metadata": {},
   "outputs": [
    {
     "name": "stdout",
     "output_type": "stream",
     "text": [
      "38\n",
      "['algW', 'aslA', 'cheD', 'cheY', 'csgB', 'csgD', 'csgE', 'csgF', 'csgG', 'entA', 'entB', 'entC', 'entD', 'entE', 'entF', 'entS', 'espL1', 'espL4', 'espR1', 'espX4', 'espX5', 'fepA', 'fepB', 'fepC', 'fepD', 'fepG', 'fes', 'fimH', 'flgE', 'flgG', 'flgH', 'flgM', 'fliG', 'fliI', 'fliM', 'fliN', 'fliP', 'ompA']\n"
     ]
    }
   ],
   "source": [
    "print(len(vfdb_sheared_genes))\n",
    "print(vfdb_sheared_genes)"
   ]
  },
  {
   "cell_type": "markdown",
   "metadata": {},
   "source": [
    "### Ecoli_VF (abricate DB)"
   ]
  },
  {
   "cell_type": "code",
   "execution_count": 7,
   "metadata": {},
   "outputs": [],
   "source": [
    "ecvf_summary = pd.read_csv(os.path.join(SUMMARIES_DIR, 'ecoli_vf.tab'),\n",
    "                           sep='\\t', na_values='.')"
   ]
  },
  {
   "cell_type": "code",
   "execution_count": 8,
   "metadata": {},
   "outputs": [],
   "source": [
    "ecvf_tidy = make_tidy(ecvf_summary)"
   ]
  },
  {
   "cell_type": "code",
   "execution_count": 9,
   "metadata": {},
   "outputs": [],
   "source": [
    "ecvf_total_genes = ecvf_tidy['GENE'].unique().tolist()\n",
    "ecvf_tidy_grouped = ecvf_tidy.groupby(['STRAIN'])\n",
    "# get genes that present in more than 95% of strains (89-93)\n",
    "ecvf_sheared_genes = get_sheared_entities(ecvf_total_genes, 'GENE', ecvf_tidy_grouped)"
   ]
  },
  {
   "cell_type": "code",
   "execution_count": 10,
   "metadata": {},
   "outputs": [
    {
     "name": "stdout",
     "output_type": "stream",
     "text": [
      "103\n",
      "['ECS88_3547', 'Z1307', 'Z2206', 'aec15', 'artj', 'aslA', 'cheA', 'cheB', 'cheR', 'cheW', 'cheY', 'cheZ', 'clpV', 'csgA', 'csgB', 'csgC', 'csgD', 'csgE', 'csgF', 'csgG', 'entA', 'entB', 'entC', 'entD', 'entE', 'entF', 'entS', 'espL1', 'espL3', 'espL4', 'espR1', 'espX4', 'espX5', 'fepA', 'fepB', 'fepC', 'fepD', 'fepE', 'fepG', 'fes', 'fimD', 'fimF', 'fimG', 'fimH', 'flgA', 'flgB', 'flgC', 'flgD', 'flgE', 'flgF', 'flgG', 'flgH', 'flgI', 'flgJ', 'flgK', 'flgL', 'flgN', 'flhA', 'flhB', 'flhC', 'flhD', 'flhE', 'fliA', 'fliE', 'fliF', 'fliG', 'fliH', 'fliI', 'fliJ', 'fliK', 'fliL', 'fliM', 'fliN', 'fliO', 'fliP', 'fliQ', 'fliR', 'fliS', 'fliT', 'fliY', 'fliZ', 'flk', 'gadX', 'hlyE', 'hofB', 'hofC', 'hofq', 'ibeB', 'ibeC', 'motA', 'motB', 'nada', 'nadb', 'ppdD', 'ppda', 'ppdb', 'ppdc', 'tar/cheM', 'ycbF', 'ycbU', 'ycbV', 'ygdb', 'yggr']\n"
     ]
    }
   ],
   "source": [
    "print(len(ecvf_sheared_genes))\n",
    "print(ecvf_sheared_genes)"
   ]
  },
  {
   "cell_type": "markdown",
   "metadata": {},
   "source": [
    "#### shared between VFDB and Ecoli_VF"
   ]
  },
  {
   "cell_type": "code",
   "execution_count": 11,
   "metadata": {},
   "outputs": [
    {
     "name": "stdout",
     "output_type": "stream",
     "text": [
      "34\n",
      "{'espX5', 'fepA', 'entA', 'fepD', 'fliG', 'csgE', 'espX4', 'fepG', 'csgG', 'csgB', 'flgG', 'aslA', 'entE', 'csgD', 'csgF', 'espL1', 'fliI', 'fliM', 'fliN', 'fepB', 'espR1', 'entC', 'cheY', 'entB', 'entF', 'flgE', 'flgH', 'fliP', 'espL4', 'fimH', 'entS', 'entD', 'fes', 'fepC'}\n"
     ]
    }
   ],
   "source": [
    "shared = set(vfdb_sheared_genes).intersection(set(ecvf_sheared_genes))\n",
    "print(len(shared))\n",
    "print(shared)"
   ]
  },
  {
   "cell_type": "markdown",
   "metadata": {},
   "source": [
    "### Ecoli_VirFinder (https://bitbucket.org/genomicepidemiology/virulencefinder_db/src/master/)"
   ]
  },
  {
   "cell_type": "code",
   "execution_count": 12,
   "metadata": {},
   "outputs": [],
   "source": [
    "ecbb_summary = pd.read_csv(os.path.join(SUMMARIES_DIR, 'ecoli_virfinder.tab'),\n",
    "                           sep='\\t', na_values='.')"
   ]
  },
  {
   "cell_type": "code",
   "execution_count": 13,
   "metadata": {},
   "outputs": [],
   "source": [
    "ecbb_tidy = make_tidy(ecbb_summary)"
   ]
  },
  {
   "cell_type": "code",
   "execution_count": 14,
   "metadata": {},
   "outputs": [],
   "source": [
    "ecbb_total_genes = ecbb_tidy['GENE'].unique().tolist()\n",
    "ecbb_tidy_grouped = ecbb_tidy.groupby(['STRAIN'])\n",
    "# get genes that present in more than 95% of strains (89-93)\n",
    "ecbb_sheared_genes = get_sheared_entities(ecbb_total_genes, 'GENE', ecbb_tidy_grouped)"
   ]
  },
  {
   "cell_type": "code",
   "execution_count": 15,
   "metadata": {},
   "outputs": [
    {
     "name": "stdout",
     "output_type": "stream",
     "text": [
      "0\n"
     ]
    }
   ],
   "source": [
    "print(len(ecbb_sheared_genes))"
   ]
  },
  {
   "cell_type": "markdown",
   "metadata": {},
   "source": [
    "### Save the results"
   ]
  },
  {
   "cell_type": "code",
   "execution_count": 16,
   "metadata": {},
   "outputs": [],
   "source": [
    "max_lenght = len(ecvf_sheared_genes)\n",
    "\n",
    "vfdb_col = vfdb_sheared_genes + [np.nan for i in range(max_lenght - len(vfdb_sheared_genes))]\n",
    "ecbb_col = ecbb_sheared_genes + [np.nan for i in range(max_lenght - len(ecbb_sheared_genes))]\n",
    "\n",
    "virulence_results = pd.DataFrame({'vfdb': vfdb_col, \n",
    "                                  'ecoli_vf': ecvf_sheared_genes, \n",
    "                                  'ecoli_virfinder': ecbb_col})\n",
    "virulence_results.to_csv(os.path.join(os.path.dirname(SUMMARIES_DIR), 'virulence_sheared_genes.csv'),\n",
    "                         header=True, index=False)"
   ]
  },
  {
   "cell_type": "code",
   "execution_count": null,
   "metadata": {},
   "outputs": [],
   "source": []
  }
 ],
 "metadata": {
  "kernelspec": {
   "display_name": "Python 3",
   "language": "python",
   "name": "python3"
  },
  "language_info": {
   "codemirror_mode": {
    "name": "ipython",
    "version": 3
   },
   "file_extension": ".py",
   "mimetype": "text/x-python",
   "name": "python",
   "nbconvert_exporter": "python",
   "pygments_lexer": "ipython3",
   "version": "3.7.3"
  }
 },
 "nbformat": 4,
 "nbformat_minor": 2
}
