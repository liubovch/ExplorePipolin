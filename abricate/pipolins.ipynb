{
 "cells": [
  {
   "cell_type": "code",
   "execution_count": 1,
   "metadata": {},
   "outputs": [
    {
     "data": {
      "text/plain": [
       "'utf-8'"
      ]
     },
     "execution_count": 1,
     "metadata": {},
     "output_type": "execute_result"
    }
   ],
   "source": [
    "# import modules\n",
    "import os\n",
    "import pandas as pd\n",
    "import numpy as np\n",
    "from prettytable import PrettyTable\n",
    "import sys\n",
    "sys.getdefaultencoding()"
   ]
  },
  {
   "cell_type": "code",
   "execution_count": 6,
   "metadata": {},
   "outputs": [],
   "source": [
    "SUMMARIES_DIR = '/home/liubov/PycharmProjects/ExplorePipolin/data/new_analysis/abricate/summaries'\n",
    "\n",
    "def make_megares_tidy(megares_df):\n",
    "    tidy_df = pd.DataFrame(columns=['STRAIN', 'ID', 'TYPE', 'CLASS', 'MECHANISM', 'GROUP'])\n",
    "    for _, row in megares_df.iterrows():\n",
    "        entry = row['#FILE']\n",
    "        index_array = np.flatnonzero(row.iloc[2:].notna()) + 2\n",
    "        entry_types = [row.index[index] for index in index_array]\n",
    "        for etype in entry_types:\n",
    "            levels = etype.split(sep='|')\n",
    "            data = pd.DataFrame({'STRAIN': [entry], 'ID': [levels[0]], 'TYPE': [levels[1]],\n",
    "                            'CLASS': [levels[2]], 'MECHANISM': [levels[3]], 'GROUP': [levels[4]]})\n",
    "            tidy_df = tidy_df.append(data, ignore_index=True)\n",
    "\n",
    "    return tidy_df\n",
    "\n",
    "def make_tidy(df):\n",
    "    tidy_df = pd.DataFrame(columns=['STRAIN', 'GENE'])\n",
    "    for _, row in df.iterrows():\n",
    "        entry = row['#FILE']\n",
    "        index_array = np.flatnonzero(row.iloc[2:].notna()) + 2\n",
    "        entry_types = [row.index[index] for index in index_array]\n",
    "        for etype in entry_types:\n",
    "            data = pd.DataFrame({'STRAIN': [entry], 'GENE': [etype]})\n",
    "            tidy_df = tidy_df.append(data, ignore_index=True)\n",
    "    \n",
    "    return tidy_df"
   ]
  },
  {
   "cell_type": "markdown",
   "metadata": {},
   "source": [
    "# AMR genes in pipolins"
   ]
  },
  {
   "cell_type": "markdown",
   "metadata": {},
   "source": [
    "### MEGARes\n",
    "\n",
    "`megares_noSNPs` is a database that was downloaded from MEGARes repository (https://megares.meglab.org/download/index.php) -- Version 2.0.0 (14 October 2019). Genes that requires SNP confirmation were excluded (`ExplorePipolin/scripts/prepare_megares_nosnps.py`).\n",
    "\n",
    "**MEGARes is non-redundant and includes entities from 5 databases: BacMet, ResFinder, ARG-ANNOT, CARD and NCBI AMR.**\n",
    "\n",
    "Each entry (gene) in this database is represented by it's unique ID and 4 hierarchical levels: TYPE, CLASS, MECHANISM and GROUP (by analogy with GO ontology).\n",
    "\n",
    " * **Type** of compound, to which the accession confers resistance (e.g. drug, biocide, metal, multi-compound),\n",
    " * **Class** of antimicrobial compounds to which a gene confers resistance (e.g. betalactams),\n",
    " * **Mechanism** by which this resistance is conferred (e.g. betalactamases),\n",
    " * **Group** name of the genes (e.g. Group A betalactamases),\n",
    " * and **ID** for each individual gene accession."
   ]
  },
  {
   "cell_type": "code",
   "execution_count": 7,
   "metadata": {},
   "outputs": [
    {
     "name": "stdout",
     "output_type": "stream",
     "text": [
      "            STRAIN        ID    TYPE                   CLASS  \\\n",
      "0         2452.tab  MEG_2435   Drugs             betalactams   \n",
      "1         CP53.tab  MEG_2435   Drugs             betalactams   \n",
      "2      CRE1540.tab  MEG_2435   Drugs             betalactams   \n",
      "3   CVM_N62675.tab  MEG_2435   Drugs             betalactams   \n",
      "4          L37.tab  MEG_2435   Drugs             betalactams   \n",
      "5          L53.tab  MEG_2435   Drugs             betalactams   \n",
      "6      LREC242.tab  MEG_2378   Drugs             betalactams   \n",
      "7      LREC242.tab  MEG_2401   Drugs             betalactams   \n",
      "8      LREC242.tab  MEG_2434   Drugs             betalactams   \n",
      "9      LREC242.tab  MEG_2435   Drugs             betalactams   \n",
      "10     LREC244.tab  MEG_2378   Drugs             betalactams   \n",
      "11     LREC244.tab  MEG_2435   Drugs             betalactams   \n",
      "12     LREC245.tab  MEG_2378   Drugs             betalactams   \n",
      "13     LREC245.tab  MEG_2435   Drugs             betalactams   \n",
      "14     LREC248.tab  MEG_3999  Metals  Multi-metal_resistance   \n",
      "15     LREC248.tab  MEG_7855  Metals         Zinc_resistance   \n",
      "16     LREC248.tab  MEG_7858  Metals         Zinc_resistance   \n",
      "17     LREC248.tab  MEG_7859  Metals         Zinc_resistance   \n",
      "18     LREC252.tab  MEG_2435   Drugs             betalactams   \n",
      "19     LREC252.tab  MEG_2456  Metals       Copper_resistance   \n",
      "20     LREC252.tab  MEG_7855  Metals         Zinc_resistance   \n",
      "21     LREC252.tab  MEG_7858  Metals         Zinc_resistance   \n",
      "22     LREC252.tab  MEG_7859  Metals         Zinc_resistance   \n",
      "23      YY76-1.tab  MEG_2435   Drugs             betalactams   \n",
      "\n",
      "                         MECHANISM GROUP  \n",
      "0           Class_A_betalactamases   CTX  \n",
      "1           Class_A_betalactamases   CTX  \n",
      "2           Class_A_betalactamases   CTX  \n",
      "3           Class_A_betalactamases   CTX  \n",
      "4           Class_A_betalactamases   CTX  \n",
      "5           Class_A_betalactamases   CTX  \n",
      "6           Class_A_betalactamases   CTX  \n",
      "7           Class_A_betalactamases   CTX  \n",
      "8           Class_A_betalactamases   CTX  \n",
      "9           Class_A_betalactamases   CTX  \n",
      "10          Class_A_betalactamases   CTX  \n",
      "11          Class_A_betalactamases   CTX  \n",
      "12          Class_A_betalactamases   CTX  \n",
      "13          Class_A_betalactamases   CTX  \n",
      "14  Multi-metal_resistance_protein  MNTP  \n",
      "15         Zinc_resistance_protein  ZNUA  \n",
      "16         Zinc_resistance_protein  ZNUB  \n",
      "17         Zinc_resistance_protein  ZNUC  \n",
      "18          Class_A_betalactamases   CTX  \n",
      "19       Copper_resistance_protein  CUTC  \n",
      "20         Zinc_resistance_protein  ZNUA  \n",
      "21         Zinc_resistance_protein  ZNUB  \n",
      "22         Zinc_resistance_protein  ZNUC  \n",
      "23          Class_A_betalactamases   CTX  \n"
     ]
    }
   ],
   "source": [
    "megares_summary = pd.read_csv(os.path.join(SUMMARIES_DIR, 'megares_noSNPs.tab'),\n",
    "                              sep='\\t', na_values='.')\n",
    "megares_tidy = make_megares_tidy(megares_summary)\n",
    "print(megares_tidy)"
   ]
  },
  {
   "cell_type": "markdown",
   "metadata": {},
   "source": [
    "### ARG-ANNOT (abricate DB)"
   ]
  },
  {
   "cell_type": "code",
   "execution_count": 8,
   "metadata": {},
   "outputs": [
    {
     "name": "stdout",
     "output_type": "stream",
     "text": [
      "        STRAIN              GENE\n",
      "0  LREC242.tab  (Bla)blaCTX-M-14\n",
      "1  LREC242.tab        (Phe)catB4\n"
     ]
    }
   ],
   "source": [
    "argannot_summary = pd.read_csv(os.path.join(SUMMARIES_DIR, 'argannot.tab'),\n",
    "                               sep='\\t', na_values='.')\n",
    "argannot_tidy = make_tidy(argannot_summary)\n",
    "print(argannot_tidy)"
   ]
  },
  {
   "cell_type": "markdown",
   "metadata": {},
   "source": [
    "### NCBI AMR (abricate DB)"
   ]
  },
  {
   "cell_type": "code",
   "execution_count": 9,
   "metadata": {},
   "outputs": [
    {
     "name": "stdout",
     "output_type": "stream",
     "text": [
      "        STRAIN         GENE\n",
      "0  LREC242.tab  blaCTX-M-14\n"
     ]
    }
   ],
   "source": [
    "ncbi_summary = pd.read_csv(os.path.join(SUMMARIES_DIR, 'ncbi.tab'),\n",
    "                          sep='\\t', na_values='.')\n",
    "ncbi_tidy = make_tidy(ncbi_summary)\n",
    "print(ncbi_tidy)"
   ]
  },
  {
   "cell_type": "markdown",
   "metadata": {},
   "source": [
    "### CADR (abricate DB)"
   ]
  },
  {
   "cell_type": "code",
   "execution_count": 10,
   "metadata": {},
   "outputs": [
    {
     "name": "stdout",
     "output_type": "stream",
     "text": [
      "        STRAIN      GENE\n",
      "0  LREC242.tab  CTX-M-14\n"
     ]
    }
   ],
   "source": [
    "card_summary = pd.read_csv(os.path.join(SUMMARIES_DIR, 'card.tab'),\n",
    "                           sep='\\t', na_values='.')\n",
    "card_tidy = make_tidy(card_summary)\n",
    "print(card_tidy)"
   ]
  },
  {
   "cell_type": "markdown",
   "metadata": {},
   "source": [
    "### ResFinder (abricate DB)"
   ]
  },
  {
   "cell_type": "code",
   "execution_count": 11,
   "metadata": {},
   "outputs": [
    {
     "name": "stdout",
     "output_type": "stream",
     "text": [
      "        STRAIN           GENE\n",
      "0  LREC242.tab  blaCTX-M-14_1\n"
     ]
    }
   ],
   "source": [
    "resfinder_summary = pd.read_csv(os.path.join(SUMMARIES_DIR, 'resfinder.tab'),\n",
    "                                sep='\\t', na_values='.')\n",
    "resfinder_tidy = make_tidy(resfinder_summary)\n",
    "print(resfinder_tidy)"
   ]
  },
  {
   "cell_type": "markdown",
   "metadata": {},
   "source": [
    "# Virulence genes in pipolins"
   ]
  },
  {
   "cell_type": "markdown",
   "metadata": {},
   "source": [
    "### VFDB (http://www.mgc.ac.cn/VFs/ updated 17-Oct-2019)"
   ]
  },
  {
   "cell_type": "code",
   "execution_count": 12,
   "metadata": {},
   "outputs": [
    {
     "name": "stdout",
     "output_type": "stream",
     "text": [
      "        STRAIN  GENE\n",
      "0  LREC252.tab  cheD\n",
      "1  LREC252.tab  cheY\n",
      "2  LREC252.tab  entD\n",
      "3  LREC252.tab  flhA\n",
      "4     P12b.tab  fliC\n"
     ]
    }
   ],
   "source": [
    "vfdb_summary = pd.read_csv(os.path.join(SUMMARIES_DIR, 'vfdb.tab'),\n",
    "                           sep='\\t', na_values='.')\n",
    "vfdb_tidy = make_tidy(vfdb_summary)\n",
    "print(vfdb_tidy)"
   ]
  },
  {
   "cell_type": "markdown",
   "metadata": {},
   "source": [
    "### Ecoli_VF (abricate DB)"
   ]
  },
  {
   "cell_type": "code",
   "execution_count": 13,
   "metadata": {},
   "outputs": [
    {
     "name": "stdout",
     "output_type": "stream",
     "text": [
      "                 STRAIN      GENE\n",
      "0             10942.tab      fimD\n",
      "1            112648.tab      fimD\n",
      "2            122715.tab      fimD\n",
      "3        2015C-3125.tab      fimD\n",
      "4             FHI82.tab      fimD\n",
      "5             FHI87.tab      fimD\n",
      "6         FWSEC0002.tab      fimD\n",
      "7   GCA_009002655.1.tab      fimD\n",
      "8   GCF_000941935.1.tab      fimD\n",
      "9               L73.tab      fimD\n",
      "10          LREC249.tab      fimD\n",
      "11          LREC251.tab      fimD\n",
      "12          LREC252.tab      cheA\n",
      "13          LREC252.tab      cheB\n",
      "14          LREC252.tab      cheR\n",
      "15          LREC252.tab      cheW\n",
      "16          LREC252.tab      cheY\n",
      "17          LREC252.tab      cheZ\n",
      "18          LREC252.tab      entD\n",
      "19          LREC252.tab      flhA\n",
      "20          LREC252.tab      flhB\n",
      "21          LREC252.tab      flhC\n",
      "22          LREC252.tab      flhD\n",
      "23          LREC252.tab      flhE\n",
      "24          LREC252.tab      fliA\n",
      "25          LREC252.tab      fliC\n",
      "26          LREC252.tab      fliY\n",
      "27          LREC252.tab      fliZ\n",
      "28          LREC252.tab      motA\n",
      "29          LREC252.tab      motB\n",
      "30          LREC252.tab  tar/cheM\n",
      "31             P12b.tab      fliC\n",
      "32          RM12761.tab      fimD\n",
      "33          RM13516.tab      fimD\n",
      "34           RM9872.tab      fimD\n",
      "35           SLK172.tab      fimD\n"
     ]
    }
   ],
   "source": [
    "ecvf_summary = pd.read_csv(os.path.join(SUMMARIES_DIR, 'ecoli_vf.tab'),\n",
    "                           sep='\\t', na_values='.')\n",
    "ecvf_tidy = make_tidy(ecvf_summary)\n",
    "print(ecvf_tidy)"
   ]
  },
  {
   "cell_type": "markdown",
   "metadata": {},
   "source": [
    "### Ecoli_VirFinder (https://bitbucket.org/genomicepidemiology/virulencefinder_db/src/master/)"
   ]
  },
  {
   "cell_type": "code",
   "execution_count": 14,
   "metadata": {},
   "outputs": [
    {
     "name": "stdout",
     "output_type": "stream",
     "text": [
      "Empty DataFrame\n",
      "Columns: [STRAIN, GENE]\n",
      "Index: []\n"
     ]
    }
   ],
   "source": [
    "ecbb_summary = pd.read_csv(os.path.join(SUMMARIES_DIR, 'ecoli_virfinder.tab'),\n",
    "                           sep='\\t', na_values='.')\n",
    "ecbb_tidy = make_tidy(ecbb_summary)\n",
    "print(ecbb_tidy)"
   ]
  },
  {
   "cell_type": "code",
   "execution_count": null,
   "metadata": {},
   "outputs": [],
   "source": []
  }
 ],
 "metadata": {
  "kernelspec": {
   "display_name": "Python 3",
   "language": "python",
   "name": "python3"
  },
  "language_info": {
   "codemirror_mode": {
    "name": "ipython",
    "version": 3
   },
   "file_extension": ".py",
   "mimetype": "text/x-python",
   "name": "python",
   "nbconvert_exporter": "python",
   "pygments_lexer": "ipython3",
   "version": "3.7.3"
  }
 },
 "nbformat": 4,
 "nbformat_minor": 2
}
